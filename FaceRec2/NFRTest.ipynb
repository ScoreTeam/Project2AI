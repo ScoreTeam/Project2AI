{
 "cells": [
  {
   "cell_type": "code",
   "execution_count": 7,
   "metadata": {},
   "outputs": [
    {
     "name": "stdout",
     "output_type": "stream",
     "text": [
      "24-06-19 02:44:41 - Searching D://Retinafacetest/h.jpg in 8 length datastore\n",
      "\n",
      "target_size= (112, 112)\n",
      "\n",
      "24-06-19 02:44:49 - find function duration 8.435185194015503 seconds\n",
      "[                    identity                                      hash  \\\n",
      "0  D://DatabaseFR\\hamza1.png  cb390d211a397fb09a046671f9ff4561f7efc06d   \n",
      "\n",
      "   target_x  target_y  target_w  target_h  source_x  source_y  source_w  \\\n",
      "0        96       259       572       572       106       253       246   \n",
      "\n",
      "   source_h  threshold  distance  \n",
      "0       246        0.4  0.339913  ]\n",
      "Employee name: hamza1 \n",
      "coordinates: 106,253,246,246,352,499\n",
      "distance = 0.33991251920698085\n"
     ]
    }
   ],
   "source": [
    "from NFR2 import NFR\n",
    "image_path = \"D://Retinafacetest/h.jpg\"\n",
    "name, xmin, ymin, w, h, xmax, ymax,dis = NFR.FindFaceFromImage(image_path)\n",
    "\n",
    "print(f\"Employee name: {name} \\ncoordinates: {xmin},{ymin},{w},{h},{xmax},{ymax}\\ndistance = {dis}\")"
   ]
  },
  {
   "cell_type": "code",
   "execution_count": null,
   "metadata": {},
   "outputs": [],
   "source": []
  }
 ],
 "metadata": {
  "kernelspec": {
   "display_name": "Python 3",
   "language": "python",
   "name": "python3"
  },
  "language_info": {
   "codemirror_mode": {
    "name": "ipython",
    "version": 3
   },
   "file_extension": ".py",
   "mimetype": "text/x-python",
   "name": "python",
   "nbconvert_exporter": "python",
   "pygments_lexer": "ipython3",
   "version": "3.12.3"
  }
 },
 "nbformat": 4,
 "nbformat_minor": 2
}
